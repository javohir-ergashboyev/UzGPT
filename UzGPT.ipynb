{
  "nbformat": 4,
  "nbformat_minor": 0,
  "metadata": {
    "colab": {
      "provenance": [],
      "authorship_tag": "ABX9TyMgrWi2fZzukJpKqQ4L+ubf",
      "include_colab_link": true
    },
    "kernelspec": {
      "name": "python3",
      "display_name": "Python 3"
    },
    "language_info": {
      "name": "python"
    },
    "widgets": {
      "application/vnd.jupyter.widget-state+json": {
        "3ad1a54bdd0c4050bfc9426b1abc472c": {
          "model_module": "@jupyter-widgets/controls",
          "model_name": "HBoxModel",
          "model_module_version": "1.5.0",
          "state": {
            "_dom_classes": [],
            "_model_module": "@jupyter-widgets/controls",
            "_model_module_version": "1.5.0",
            "_model_name": "HBoxModel",
            "_view_count": null,
            "_view_module": "@jupyter-widgets/controls",
            "_view_module_version": "1.5.0",
            "_view_name": "HBoxView",
            "box_style": "",
            "children": [
              "IPY_MODEL_5f1b3c17582f4555984e0a2b73aeff3a",
              "IPY_MODEL_6646990397b8454c907d61fc8839e1da",
              "IPY_MODEL_99f2c1e8852d4ddc9b4af4ba21536616"
            ],
            "layout": "IPY_MODEL_da8c70e4aa0b4c079477eff9412098b1"
          }
        },
        "5f1b3c17582f4555984e0a2b73aeff3a": {
          "model_module": "@jupyter-widgets/controls",
          "model_name": "HTMLModel",
          "model_module_version": "1.5.0",
          "state": {
            "_dom_classes": [],
            "_model_module": "@jupyter-widgets/controls",
            "_model_module_version": "1.5.0",
            "_model_name": "HTMLModel",
            "_view_count": null,
            "_view_module": "@jupyter-widgets/controls",
            "_view_module_version": "1.5.0",
            "_view_name": "HTMLView",
            "description": "",
            "description_tooltip": null,
            "layout": "IPY_MODEL_b662fca697644aae9603b1248afb4891",
            "placeholder": "​",
            "style": "IPY_MODEL_0ae6ded193d74a39b5cc4e4c94e62126",
            "value": "100%"
          }
        },
        "6646990397b8454c907d61fc8839e1da": {
          "model_module": "@jupyter-widgets/controls",
          "model_name": "FloatProgressModel",
          "model_module_version": "1.5.0",
          "state": {
            "_dom_classes": [],
            "_model_module": "@jupyter-widgets/controls",
            "_model_module_version": "1.5.0",
            "_model_name": "FloatProgressModel",
            "_view_count": null,
            "_view_module": "@jupyter-widgets/controls",
            "_view_module_version": "1.5.0",
            "_view_name": "ProgressView",
            "bar_style": "success",
            "description": "",
            "description_tooltip": null,
            "layout": "IPY_MODEL_869c08af9a3248a88f573b8fc2d25942",
            "max": 3000,
            "min": 0,
            "orientation": "horizontal",
            "style": "IPY_MODEL_eaf68262572348e9884460c83665ebee",
            "value": 3000
          }
        },
        "99f2c1e8852d4ddc9b4af4ba21536616": {
          "model_module": "@jupyter-widgets/controls",
          "model_name": "HTMLModel",
          "model_module_version": "1.5.0",
          "state": {
            "_dom_classes": [],
            "_model_module": "@jupyter-widgets/controls",
            "_model_module_version": "1.5.0",
            "_model_name": "HTMLModel",
            "_view_count": null,
            "_view_module": "@jupyter-widgets/controls",
            "_view_module_version": "1.5.0",
            "_view_name": "HTMLView",
            "description": "",
            "description_tooltip": null,
            "layout": "IPY_MODEL_f0ded732ecfb468b986395cade718d74",
            "placeholder": "​",
            "style": "IPY_MODEL_15912a559b32432286285fd8bbe0f9df",
            "value": " 3000/3000 [02:00&lt;00:00, 46.46it/s]"
          }
        },
        "da8c70e4aa0b4c079477eff9412098b1": {
          "model_module": "@jupyter-widgets/base",
          "model_name": "LayoutModel",
          "model_module_version": "1.2.0",
          "state": {
            "_model_module": "@jupyter-widgets/base",
            "_model_module_version": "1.2.0",
            "_model_name": "LayoutModel",
            "_view_count": null,
            "_view_module": "@jupyter-widgets/base",
            "_view_module_version": "1.2.0",
            "_view_name": "LayoutView",
            "align_content": null,
            "align_items": null,
            "align_self": null,
            "border": null,
            "bottom": null,
            "display": null,
            "flex": null,
            "flex_flow": null,
            "grid_area": null,
            "grid_auto_columns": null,
            "grid_auto_flow": null,
            "grid_auto_rows": null,
            "grid_column": null,
            "grid_gap": null,
            "grid_row": null,
            "grid_template_areas": null,
            "grid_template_columns": null,
            "grid_template_rows": null,
            "height": null,
            "justify_content": null,
            "justify_items": null,
            "left": null,
            "margin": null,
            "max_height": null,
            "max_width": null,
            "min_height": null,
            "min_width": null,
            "object_fit": null,
            "object_position": null,
            "order": null,
            "overflow": null,
            "overflow_x": null,
            "overflow_y": null,
            "padding": null,
            "right": null,
            "top": null,
            "visibility": null,
            "width": null
          }
        },
        "b662fca697644aae9603b1248afb4891": {
          "model_module": "@jupyter-widgets/base",
          "model_name": "LayoutModel",
          "model_module_version": "1.2.0",
          "state": {
            "_model_module": "@jupyter-widgets/base",
            "_model_module_version": "1.2.0",
            "_model_name": "LayoutModel",
            "_view_count": null,
            "_view_module": "@jupyter-widgets/base",
            "_view_module_version": "1.2.0",
            "_view_name": "LayoutView",
            "align_content": null,
            "align_items": null,
            "align_self": null,
            "border": null,
            "bottom": null,
            "display": null,
            "flex": null,
            "flex_flow": null,
            "grid_area": null,
            "grid_auto_columns": null,
            "grid_auto_flow": null,
            "grid_auto_rows": null,
            "grid_column": null,
            "grid_gap": null,
            "grid_row": null,
            "grid_template_areas": null,
            "grid_template_columns": null,
            "grid_template_rows": null,
            "height": null,
            "justify_content": null,
            "justify_items": null,
            "left": null,
            "margin": null,
            "max_height": null,
            "max_width": null,
            "min_height": null,
            "min_width": null,
            "object_fit": null,
            "object_position": null,
            "order": null,
            "overflow": null,
            "overflow_x": null,
            "overflow_y": null,
            "padding": null,
            "right": null,
            "top": null,
            "visibility": null,
            "width": null
          }
        },
        "0ae6ded193d74a39b5cc4e4c94e62126": {
          "model_module": "@jupyter-widgets/controls",
          "model_name": "DescriptionStyleModel",
          "model_module_version": "1.5.0",
          "state": {
            "_model_module": "@jupyter-widgets/controls",
            "_model_module_version": "1.5.0",
            "_model_name": "DescriptionStyleModel",
            "_view_count": null,
            "_view_module": "@jupyter-widgets/base",
            "_view_module_version": "1.2.0",
            "_view_name": "StyleView",
            "description_width": ""
          }
        },
        "869c08af9a3248a88f573b8fc2d25942": {
          "model_module": "@jupyter-widgets/base",
          "model_name": "LayoutModel",
          "model_module_version": "1.2.0",
          "state": {
            "_model_module": "@jupyter-widgets/base",
            "_model_module_version": "1.2.0",
            "_model_name": "LayoutModel",
            "_view_count": null,
            "_view_module": "@jupyter-widgets/base",
            "_view_module_version": "1.2.0",
            "_view_name": "LayoutView",
            "align_content": null,
            "align_items": null,
            "align_self": null,
            "border": null,
            "bottom": null,
            "display": null,
            "flex": null,
            "flex_flow": null,
            "grid_area": null,
            "grid_auto_columns": null,
            "grid_auto_flow": null,
            "grid_auto_rows": null,
            "grid_column": null,
            "grid_gap": null,
            "grid_row": null,
            "grid_template_areas": null,
            "grid_template_columns": null,
            "grid_template_rows": null,
            "height": null,
            "justify_content": null,
            "justify_items": null,
            "left": null,
            "margin": null,
            "max_height": null,
            "max_width": null,
            "min_height": null,
            "min_width": null,
            "object_fit": null,
            "object_position": null,
            "order": null,
            "overflow": null,
            "overflow_x": null,
            "overflow_y": null,
            "padding": null,
            "right": null,
            "top": null,
            "visibility": null,
            "width": null
          }
        },
        "eaf68262572348e9884460c83665ebee": {
          "model_module": "@jupyter-widgets/controls",
          "model_name": "ProgressStyleModel",
          "model_module_version": "1.5.0",
          "state": {
            "_model_module": "@jupyter-widgets/controls",
            "_model_module_version": "1.5.0",
            "_model_name": "ProgressStyleModel",
            "_view_count": null,
            "_view_module": "@jupyter-widgets/base",
            "_view_module_version": "1.2.0",
            "_view_name": "StyleView",
            "bar_color": null,
            "description_width": ""
          }
        },
        "f0ded732ecfb468b986395cade718d74": {
          "model_module": "@jupyter-widgets/base",
          "model_name": "LayoutModel",
          "model_module_version": "1.2.0",
          "state": {
            "_model_module": "@jupyter-widgets/base",
            "_model_module_version": "1.2.0",
            "_model_name": "LayoutModel",
            "_view_count": null,
            "_view_module": "@jupyter-widgets/base",
            "_view_module_version": "1.2.0",
            "_view_name": "LayoutView",
            "align_content": null,
            "align_items": null,
            "align_self": null,
            "border": null,
            "bottom": null,
            "display": null,
            "flex": null,
            "flex_flow": null,
            "grid_area": null,
            "grid_auto_columns": null,
            "grid_auto_flow": null,
            "grid_auto_rows": null,
            "grid_column": null,
            "grid_gap": null,
            "grid_row": null,
            "grid_template_areas": null,
            "grid_template_columns": null,
            "grid_template_rows": null,
            "height": null,
            "justify_content": null,
            "justify_items": null,
            "left": null,
            "margin": null,
            "max_height": null,
            "max_width": null,
            "min_height": null,
            "min_width": null,
            "object_fit": null,
            "object_position": null,
            "order": null,
            "overflow": null,
            "overflow_x": null,
            "overflow_y": null,
            "padding": null,
            "right": null,
            "top": null,
            "visibility": null,
            "width": null
          }
        },
        "15912a559b32432286285fd8bbe0f9df": {
          "model_module": "@jupyter-widgets/controls",
          "model_name": "DescriptionStyleModel",
          "model_module_version": "1.5.0",
          "state": {
            "_model_module": "@jupyter-widgets/controls",
            "_model_module_version": "1.5.0",
            "_model_name": "DescriptionStyleModel",
            "_view_count": null,
            "_view_module": "@jupyter-widgets/base",
            "_view_module_version": "1.2.0",
            "_view_name": "StyleView",
            "description_width": ""
          }
        }
      }
    }
  },
  "cells": [
    {
      "cell_type": "markdown",
      "metadata": {
        "id": "view-in-github",
        "colab_type": "text"
      },
      "source": [
        "<a href=\"https://colab.research.google.com/github/javohir-ergashboyev/UzGPT/blob/main/UzGPT.ipynb\" target=\"_parent\"><img src=\"https://colab.research.google.com/assets/colab-badge.svg\" alt=\"Open In Colab\"/></a>"
      ]
    },
    {
      "cell_type": "code",
      "execution_count": 162,
      "metadata": {
        "id": "W5J2DoZbbAYG"
      },
      "outputs": [],
      "source": [
        "with open('1.txt', 'r', encoding='utf-8') as f:\n",
        "  contents = f.read()\n"
      ]
    },
    {
      "cell_type": "code",
      "source": [
        "import re\n",
        "\n",
        "def remove_special_characters(text):\n",
        "  pattern = r\"[^a-zA-Z\\s\\'-]\"\n",
        "  text = re.sub(pattern, \"\", text)\n",
        "  text=text.lower()\n",
        "  return text\n",
        "\n",
        "contents = remove_special_characters(contents)\n"
      ],
      "metadata": {
        "id": "9RYKVdMycHik"
      },
      "execution_count": 163,
      "outputs": []
    },
    {
      "cell_type": "code",
      "source": [
        "chars=sorted(list(set(contents)))\n",
        "print(''.join(chars))"
      ],
      "metadata": {
        "colab": {
          "base_uri": "https://localhost:8080/"
        },
        "id": "eozpPhaOa_wV",
        "outputId": "24782e14-bea2-40cd-bc62-4e09dea836ad"
      },
      "execution_count": 164,
      "outputs": [
        {
          "output_type": "stream",
          "name": "stdout",
          "text": [
            "\n",
            " '-abcdefghijklmnopqrstuvwxyz\n"
          ]
        }
      ]
    },
    {
      "cell_type": "code",
      "source": [
        "st_idx={ch:i for i,ch in enumerate(chars)}\n",
        "idx_st={i:ch for i,ch in enumerate(chars)}\n",
        "vocab_size=len(chars)\n",
        "\n",
        "\n",
        "encode=lambda x: [st_idx[i] for i in x]\n",
        "print(encode(\"ta'lim\"))\n",
        "decode=lambda x:''.join([idx_st[i] for i in x])\n",
        "print(decode(encode(\"ta'lim\")))\n",
        "print(vocab_size)"
      ],
      "metadata": {
        "colab": {
          "base_uri": "https://localhost:8080/"
        },
        "id": "bw58DC5Tfn4K",
        "outputId": "8fa99ddc-4c23-41c8-b420-e4797ab5f781"
      },
      "execution_count": 165,
      "outputs": [
        {
          "output_type": "stream",
          "name": "stdout",
          "text": [
            "[23, 4, 2, 15, 12, 16]\n",
            "ta'lim\n",
            "30\n"
          ]
        }
      ]
    },
    {
      "cell_type": "code",
      "source": [
        "import torch\n",
        "data=torch.tensor(encode(contents), dtype=torch.long)\n",
        "data.shape, data.dtype"
      ],
      "metadata": {
        "colab": {
          "base_uri": "https://localhost:8080/"
        },
        "id": "pyzY87Uqg1HI",
        "outputId": "f7766936-261c-4f94-8711-9706d0bae353"
      },
      "execution_count": 166,
      "outputs": [
        {
          "output_type": "execute_result",
          "data": {
            "text/plain": [
              "(torch.Size([126327]), torch.int64)"
            ]
          },
          "metadata": {},
          "execution_count": 166
        }
      ]
    },
    {
      "cell_type": "code",
      "source": [
        "data[:10]"
      ],
      "metadata": {
        "colab": {
          "base_uri": "https://localhost:8080/"
        },
        "id": "cNb-D9alifHK",
        "outputId": "3fccd4f4-db54-4bb7-d88f-bb2d965f2cb9"
      },
      "execution_count": 167,
      "outputs": [
        {
          "output_type": "execute_result",
          "data": {
            "text/plain": [
              "tensor([ 0, 18, 14, 18, 29,  0,  1, 23,  4,  2])"
            ]
          },
          "metadata": {},
          "execution_count": 167
        }
      ]
    },
    {
      "cell_type": "code",
      "source": [
        "n=int(0.9*len(data))\n",
        "train_data=data[:n]\n",
        "val_data=data[n:]"
      ],
      "metadata": {
        "id": "TLwgsBXjilI3"
      },
      "execution_count": 168,
      "outputs": []
    },
    {
      "cell_type": "code",
      "source": [
        "torch.manual_seed(1000)\n",
        "chunk_size=8\n",
        "batch_size=4\n",
        "\n",
        "def get_batch(split):\n",
        "  data=train_data if split=='train' else val_data\n",
        "  ix=torch.randint(len(data)-chunk_size,(batch_size,))\n",
        "  x=torch.stack([data[i:i+chunk_size] for i in ix])\n",
        "  y=torch.stack([data[i+1:i+chunk_size+1] for i in ix])\n",
        "  return x,y\n",
        "\n",
        "\n",
        "xb,yb=get_batch('train')\n",
        "print(xb.shape)\n",
        "print(yb.shape)\n",
        "print('inputs:')\n",
        "print(xb)\n",
        "print('outputs:')\n",
        "print(yb)"
      ],
      "metadata": {
        "colab": {
          "base_uri": "https://localhost:8080/"
        },
        "id": "BkPd5C1NiqB-",
        "outputId": "22b86337-cca3-4658-af8e-bca965d4a4fb"
      },
      "execution_count": 169,
      "outputs": [
        {
          "output_type": "stream",
          "name": "stdout",
          "text": [
            "torch.Size([4, 8])\n",
            "torch.Size([4, 8])\n",
            "inputs:\n",
            "tensor([[17, 10,  2, 12,  6, 11,  1, 23],\n",
            "        [16, 18, 23, 15,  4, 21,  1,  7],\n",
            "        [10, 12,  1, 23,  4, 11, 21, 12],\n",
            "        [ 5, 15, 12, 14,  4, 22, 12,  1]])\n",
            "outputs:\n",
            "tensor([[10,  2, 12,  6, 11,  1, 23,  4],\n",
            "        [18, 23, 15,  4, 21,  1,  7,  4],\n",
            "        [12,  1, 23,  4, 11, 21, 12, 21],\n",
            "        [15, 12, 14,  4, 22, 12,  1, 25]])\n"
          ]
        }
      ]
    },
    {
      "cell_type": "code",
      "source": [
        "for b in range(batch_size):\n",
        "  for i in range(chunk_size):\n",
        "    context=xb[b, :i+1]\n",
        "    target=yb[b,i]\n",
        "    print(f'When input is {context} output is {target}')"
      ],
      "metadata": {
        "colab": {
          "base_uri": "https://localhost:8080/"
        },
        "id": "Zn_W81Q8i6km",
        "outputId": "75d40e71-2c1c-41bb-9f8f-05aeb0d06b20"
      },
      "execution_count": 170,
      "outputs": [
        {
          "output_type": "stream",
          "name": "stdout",
          "text": [
            "When input is tensor([17]) output is 10\n",
            "When input is tensor([17, 10]) output is 2\n",
            "When input is tensor([17, 10,  2]) output is 12\n",
            "When input is tensor([17, 10,  2, 12]) output is 6\n",
            "When input is tensor([17, 10,  2, 12,  6]) output is 11\n",
            "When input is tensor([17, 10,  2, 12,  6, 11]) output is 1\n",
            "When input is tensor([17, 10,  2, 12,  6, 11,  1]) output is 23\n",
            "When input is tensor([17, 10,  2, 12,  6, 11,  1, 23]) output is 4\n",
            "When input is tensor([16]) output is 18\n",
            "When input is tensor([16, 18]) output is 23\n",
            "When input is tensor([16, 18, 23]) output is 15\n",
            "When input is tensor([16, 18, 23, 15]) output is 4\n",
            "When input is tensor([16, 18, 23, 15,  4]) output is 21\n",
            "When input is tensor([16, 18, 23, 15,  4, 21]) output is 1\n",
            "When input is tensor([16, 18, 23, 15,  4, 21,  1]) output is 7\n",
            "When input is tensor([16, 18, 23, 15,  4, 21,  1,  7]) output is 4\n",
            "When input is tensor([10]) output is 12\n",
            "When input is tensor([10, 12]) output is 1\n",
            "When input is tensor([10, 12,  1]) output is 23\n",
            "When input is tensor([10, 12,  1, 23]) output is 4\n",
            "When input is tensor([10, 12,  1, 23,  4]) output is 11\n",
            "When input is tensor([10, 12,  1, 23,  4, 11]) output is 21\n",
            "When input is tensor([10, 12,  1, 23,  4, 11, 21]) output is 12\n",
            "When input is tensor([10, 12,  1, 23,  4, 11, 21, 12]) output is 21\n",
            "When input is tensor([5]) output is 15\n",
            "When input is tensor([ 5, 15]) output is 12\n",
            "When input is tensor([ 5, 15, 12]) output is 14\n",
            "When input is tensor([ 5, 15, 12, 14]) output is 4\n",
            "When input is tensor([ 5, 15, 12, 14,  4]) output is 22\n",
            "When input is tensor([ 5, 15, 12, 14,  4, 22]) output is 12\n",
            "When input is tensor([ 5, 15, 12, 14,  4, 22, 12]) output is 1\n",
            "When input is tensor([ 5, 15, 12, 14,  4, 22, 12,  1]) output is 25\n"
          ]
        }
      ]
    },
    {
      "cell_type": "code",
      "source": [
        "xb"
      ],
      "metadata": {
        "colab": {
          "base_uri": "https://localhost:8080/"
        },
        "id": "-cir3RQujHWU",
        "outputId": "92f8da7d-f8c1-4eea-cf54-f4e220d2b1e9"
      },
      "execution_count": 171,
      "outputs": [
        {
          "output_type": "execute_result",
          "data": {
            "text/plain": [
              "tensor([[17, 10,  2, 12,  6, 11,  1, 23],\n",
              "        [16, 18, 23, 15,  4, 21,  1,  7],\n",
              "        [10, 12,  1, 23,  4, 11, 21, 12],\n",
              "        [ 5, 15, 12, 14,  4, 22, 12,  1]])"
            ]
          },
          "metadata": {},
          "execution_count": 171
        }
      ]
    },
    {
      "cell_type": "code",
      "source": [
        "import torch\n",
        "from torch import nn\n",
        "import torch.nn.functional as F\n",
        "n_embed=32\n",
        "head_size=n_embed//4\n",
        "class Head(nn.Module):\n",
        "  def __init__(self):\n",
        "    super().__init__()\n",
        "    self.key=nn.Linear(n_embed, head_size, bias=False)\n",
        "    self.query=nn.Linear(n_embed,head_size, bias=False)\n",
        "    self.value=nn.Linear(n_embed,head_size, bias=False)\n",
        "    self.register_buffer('tril', torch.tril(torch.ones(chunk_size, chunk_size)))\n",
        "    self.dropout=nn.Dropout(0.3)\n",
        "  def forward(self, x):\n",
        "    B,T,C=x.shape\n",
        "    k=self.key(x)\n",
        "    q=self.query(x)\n",
        "    wei=q@k.transpose(-2,-1)*C**-0.5\n",
        "    wei=wei.masked_fill(self.tril[:T,:T]==0, float('-inf'))\n",
        "    wei=F.softmax(wei, dim=-1)\n",
        "    wei=self.dropout(wei)\n",
        "    v=self.value(x)\n",
        "    out=wei@v\n",
        "    return out\n",
        "class MultiHeadAttention(nn.Module):\n",
        "  def __init__(self, n_head):\n",
        "    super().__init__()\n",
        "    self.heads=nn.ModuleList([Head() for _ in range(n_head)])\n",
        "    self.proj=nn.Linear(n_embed,n_embed)\n",
        "    self.dropout=nn.Dropout(0.3)\n",
        "  def forward(self, x):\n",
        "    out=torch.cat([h(x) for h in self.heads], dim=-1)\n",
        "    return self.dropout(self.proj(out))\n",
        "\n",
        "class FeedForward(nn.Module):\n",
        "  def __init__(self, n_embed):\n",
        "    super().__init__()\n",
        "    self.fwd=nn.Sequential(\n",
        "        nn.Linear(n_embed, n_embed*4),\n",
        "        nn.ReLU(),\n",
        "        nn.Linear(n_embed*4, n_embed),\n",
        "        nn.Dropout(0.3)\n",
        "    )\n",
        "  def forward(self, x):\n",
        "    return self.fwd(x)\n",
        "class Block(nn.Module):\n",
        "  def __init__(self, n_embed, n_head):\n",
        "    super().__init__()\n",
        "    head_size=n_embed//n_head\n",
        "    self.head=MultiHeadAttention(n_head)\n",
        "    self.fwd=FeedForward(n_embed)\n",
        "    self.lm1=nn.LayerNorm(n_embed)\n",
        "    self.lm2=nn.LayerNorm(n_embed)\n",
        "  def forward(self,x):\n",
        "    x=x+self.head(self.lm1(x))\n",
        "    x=x+self.fwd(self.lm2(x))\n",
        "    return x\n",
        "\n",
        "class BigramLM(nn.Module):\n",
        "  def __init__(self):\n",
        "    super().__init__()\n",
        "    self.embed=nn.Embedding(vocab_size,n_embed)\n",
        "    self.embed_pos=nn.Embedding(chunk_size, n_embed)\n",
        "    self.block=nn.Sequential(\n",
        "        Block(n_embed, 4),\n",
        "        Block(n_embed, 4),\n",
        "        Block(n_embed, 4),\n",
        "        nn.LayerNorm(n_embed)\n",
        "    )\n",
        "    self.fc=nn.Linear(n_embed, vocab_size)\n",
        "  def forward(self, idx, target=None):\n",
        "    B,T=idx.shape\n",
        "    token=self.embed(idx)\n",
        "    pos=self.embed(torch.arange(T))\n",
        "    x=token+pos\n",
        "    x=self.block(x)\n",
        "    logits=self.fc(x)\n",
        "    if target is None:\n",
        "      loss=None\n",
        "    else:\n",
        "      B,T,C=logits.shape\n",
        "      logits=logits.view(B*T, C)\n",
        "      target=target.view(B*T)\n",
        "      loss=F.cross_entropy(logits, target)\n",
        "    return logits, loss\n",
        "\n",
        "\n",
        "  def generate(self, idx, max_tokens):\n",
        "    for _ in range(max_tokens):\n",
        "      idx_cond=idx[:, -chunk_size:]\n",
        "      logits, loss=self(idx_cond)\n",
        "      logits=logits[:,-1,:]\n",
        "      probs=F.softmax(logits, dim=-1)\n",
        "      sample=torch.multinomial(probs, num_samples=1)\n",
        "      idx=torch.cat((idx,sample),dim=1)\n",
        "    return idx\n",
        "\n",
        "model=BigramLM()\n",
        "example=torch.zeros((1,1), dtype=torch.long)\n",
        "print(decode(model.generate(example, 100)[0].tolist()))\n"
      ],
      "metadata": {
        "id": "jpeYexp8jBL9",
        "colab": {
          "base_uri": "https://localhost:8080/"
        },
        "outputId": "7bbf48af-6a4d-43cc-83bf-2436b06ba1c8"
      },
      "execution_count": 172,
      "outputs": [
        {
          "output_type": "stream",
          "name": "stdout",
          "text": [
            "\n",
            "mmehgfnhxmsnu'qlnusoonchkze'mlqdvsqnxss'kvu'g-tuun qacxvcerupnxbywcv\n",
            "stauvawgvhzkhchr'bj-g\n",
            "vlajwqk-k\n"
          ]
        }
      ]
    },
    {
      "cell_type": "code",
      "source": [
        "optimizer=torch.optim.AdamW(params=model.parameters(), lr=4e-3)"
      ],
      "metadata": {
        "id": "GXYNRJQAr3_p"
      },
      "execution_count": 173,
      "outputs": []
    },
    {
      "cell_type": "code",
      "source": [
        "eval_iter=200\n",
        "@torch.no_grad\n",
        "def estimate_loss():\n",
        "  out={}\n",
        "  model.eval()\n",
        "  for split in ['train', 'test']:\n",
        "    losses=torch.zeros(eval_iter)\n",
        "    for k in range(eval_iter):\n",
        "      X,y=get_batch(split)\n",
        "      log,loss=model(X,y)\n",
        "      losses[k]=loss.item()\n",
        "    out[split]=losses.mean()\n",
        "  return out"
      ],
      "metadata": {
        "id": "5GbS3urB6Rp6"
      },
      "execution_count": 174,
      "outputs": []
    },
    {
      "cell_type": "code",
      "source": [
        "from tqdm.auto import tqdm\n",
        "\n",
        "batch_size=32\n",
        "epochs=3000\n",
        "\n",
        "for epoch in tqdm(range(epochs)):\n",
        "\n",
        "  if epoch%eval_iter==0:\n",
        "    losses=estimate_loss()\n",
        "    print(f\"step: {epoch} train loss: {losses['train']:.4f} | test loss: {losses['test']:.4f}\")\n",
        "\n",
        "  xb,yb=get_batch('train')\n",
        "  logits,loss=model(xb,yb)\n",
        "  optimizer.zero_grad(set_to_none=True)\n",
        "  loss.backward()\n",
        "  optimizer.step()\n"
      ],
      "metadata": {
        "colab": {
          "base_uri": "https://localhost:8080/",
          "height": 309,
          "referenced_widgets": [
            "3ad1a54bdd0c4050bfc9426b1abc472c",
            "5f1b3c17582f4555984e0a2b73aeff3a",
            "6646990397b8454c907d61fc8839e1da",
            "99f2c1e8852d4ddc9b4af4ba21536616",
            "da8c70e4aa0b4c079477eff9412098b1",
            "b662fca697644aae9603b1248afb4891",
            "0ae6ded193d74a39b5cc4e4c94e62126",
            "869c08af9a3248a88f573b8fc2d25942",
            "eaf68262572348e9884460c83665ebee",
            "f0ded732ecfb468b986395cade718d74",
            "15912a559b32432286285fd8bbe0f9df"
          ]
        },
        "id": "bc2D4129rtlU",
        "outputId": "0b3c167d-6e4d-4558-cd1b-0f562db313fc"
      },
      "execution_count": 175,
      "outputs": [
        {
          "data": {
            "application/vnd.jupyter.widget-view+json": {
              "model_id": "3ad1a54bdd0c4050bfc9426b1abc472c",
              "version_major": 2,
              "version_minor": 0
            },
            "text/plain": [
              "  0%|          | 0/3000 [00:00<?, ?it/s]"
            ]
          },
          "metadata": {},
          "output_type": "display_data"
        },
        {
          "output_type": "stream",
          "name": "stdout",
          "text": [
            "step: 0 train loss: 3.5753 | test loss: 3.5786\n",
            "step: 200 train loss: 2.0607 | test loss: 2.2228\n",
            "step: 400 train loss: 1.8415 | test loss: 2.0954\n",
            "step: 600 train loss: 1.6879 | test loss: 1.9505\n",
            "step: 800 train loss: 1.6003 | test loss: 1.8992\n",
            "step: 1000 train loss: 1.5125 | test loss: 1.8708\n",
            "step: 1200 train loss: 1.4798 | test loss: 1.8652\n",
            "step: 1400 train loss: 1.4509 | test loss: 1.8219\n",
            "step: 1600 train loss: 1.4249 | test loss: 1.7870\n",
            "step: 1800 train loss: 1.3850 | test loss: 1.8092\n",
            "step: 2000 train loss: 1.3648 | test loss: 1.8093\n",
            "step: 2200 train loss: 1.3421 | test loss: 1.7526\n",
            "step: 2400 train loss: 1.3389 | test loss: 1.7724\n",
            "step: 2600 train loss: 1.3145 | test loss: 1.7437\n",
            "step: 2800 train loss: 1.3244 | test loss: 1.7431\n"
          ]
        }
      ]
    },
    {
      "cell_type": "code",
      "source": [
        "print(decode(model.generate(torch.tensor(encode(\"be\"), dtype=torch.long).unsqueeze(0), 200)[0].tolist()))"
      ],
      "metadata": {
        "colab": {
          "base_uri": "https://localhost:8080/"
        },
        "id": "4tNumeDae2mt",
        "outputId": "eb5422a5-eb5c-41cd-c079-78446bdbdaf7"
      },
      "execution_count": 178,
      "outputs": [
        {
          "output_type": "stream",
          "name": "stdout",
          "text": [
            "bekiston respublikadri -peyiqlash  ta'lim tashorlari tuvoflanolarga ta'lim\n",
            "tizimida izimini takomuzgan ma'dmirlik davlatablik o'zlashtirish va dajandartlarini senspublikasi mustatson yokil qiliy davlat \n"
          ]
        }
      ]
    },
    {
      "cell_type": "code",
      "source": [],
      "metadata": {
        "id": "f-r61vMCrtd9"
      },
      "execution_count": null,
      "outputs": []
    },
    {
      "cell_type": "code",
      "source": [],
      "metadata": {
        "id": "doj-x4VWrtbh"
      },
      "execution_count": null,
      "outputs": []
    },
    {
      "cell_type": "code",
      "source": [],
      "metadata": {
        "id": "oRFXNAYartZZ"
      },
      "execution_count": null,
      "outputs": []
    },
    {
      "cell_type": "code",
      "source": [
        "torch.manual_seed(100)\n",
        "embedding_layer = nn.Embedding(2, 3)\n",
        "\n",
        "word_indices = torch.tensor([1])\n",
        "embedded_vectors = embedding_layer(word_indices)\n",
        "\n",
        "print(\"Word Indices:\", word_indices)\n",
        "print(\"Embedded Vectors:\")\n",
        "print(embedded_vectors)\n"
      ],
      "metadata": {
        "id": "JEC2-8KKjhvG",
        "colab": {
          "base_uri": "https://localhost:8080/"
        },
        "outputId": "a18fdfd2-fe0a-44a6-ecec-8a157a34815b"
      },
      "execution_count": null,
      "outputs": [
        {
          "output_type": "stream",
          "name": "stdout",
          "text": [
            "Word Indices: tensor([1])\n",
            "Embedded Vectors:\n",
            "tensor([[ 0.2429, -1.3833, -2.3134]], grad_fn=<EmbeddingBackward0>)\n"
          ]
        }
      ]
    },
    {
      "cell_type": "code",
      "source": [
        "a=torch.tril(torch.ones(3,3))\n",
        "a"
      ],
      "metadata": {
        "id": "8NKXWejAjlDK",
        "colab": {
          "base_uri": "https://localhost:8080/"
        },
        "outputId": "64b8e460-6822-424d-c15f-6c6484965050"
      },
      "execution_count": null,
      "outputs": [
        {
          "output_type": "execute_result",
          "data": {
            "text/plain": [
              "tensor([[1., 0., 0.],\n",
              "        [1., 1., 0.],\n",
              "        [1., 1., 1.]])"
            ]
          },
          "metadata": {},
          "execution_count": 77
        }
      ]
    },
    {
      "cell_type": "code",
      "source": [
        "b=torch.randint(0,10,size=(3,2)).float()\n",
        "b"
      ],
      "metadata": {
        "id": "TvArKZWkjo91",
        "colab": {
          "base_uri": "https://localhost:8080/"
        },
        "outputId": "bdb9135b-8e02-4904-9811-fe310ae81821"
      },
      "execution_count": null,
      "outputs": [
        {
          "output_type": "execute_result",
          "data": {
            "text/plain": [
              "tensor([[2., 7.],\n",
              "        [0., 3.],\n",
              "        [1., 6.]])"
            ]
          },
          "metadata": {},
          "execution_count": 88
        }
      ]
    },
    {
      "cell_type": "code",
      "source": [
        "c=a@b\n",
        "c"
      ],
      "metadata": {
        "id": "7muW717WjyS0",
        "colab": {
          "base_uri": "https://localhost:8080/"
        },
        "outputId": "b336659d-144b-4e90-f8bd-ee65cc228320"
      },
      "execution_count": null,
      "outputs": [
        {
          "output_type": "execute_result",
          "data": {
            "text/plain": [
              "tensor([[ 2.,  7.],\n",
              "        [ 2., 10.],\n",
              "        [ 3., 16.]])"
            ]
          },
          "metadata": {},
          "execution_count": 91
        }
      ]
    },
    {
      "cell_type": "code",
      "source": [
        "# a9jZ@quckMG7@&*"
      ],
      "metadata": {
        "id": "R8HdRhCXkkCB"
      },
      "execution_count": null,
      "outputs": []
    }
  ]
}